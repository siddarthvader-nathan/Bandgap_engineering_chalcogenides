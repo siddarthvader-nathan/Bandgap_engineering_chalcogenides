{
 "cells": [
  {
   "cell_type": "code",
   "execution_count": 2,
   "metadata": {},
   "outputs": [],
   "source": [
    "\"\"\" This cell creates an unflattened Sine Coulomb matrix (SCM). The sine matrix captures features of interacting atoms in a periodic system with a very low computational cost.\n",
    "   Refer to https://hackingmaterials.lbl.gov/matminer/matminer.featurizers.structure.html#matminer.featurizers.structure.matrix.SineCoulombMatrix for details\"\"\"\n",
    "\n",
    "\"\"\" Generates a list of the SCM's of all the structures in the training set. Dimensions are 8x8 or 16x16 depending on the number of atioms in each structure.\"\"\"\n",
    "\n",
    "from pymatgen.core import Structure\n",
    "from matminer.featurizers.structure.matrix import SineCoulombMatrix\n",
    "\n",
    "scm = SineCoulombMatrix(flatten=False)\n",
    "scm_raw_all_structures = [] #Contains the necessary data3\n",
    "\n",
    "for idx in range(0,5):\n",
    "    struct = Structure.from_file('./size_1/POSCAR_'+str(idx))\n",
    "    scm_raw = scm.featurize(struct)\n",
    "    scm_raw_all_structures.append(scm_raw)\n",
    "\n",
    "for idx in range(5,54):\n",
    "    struct = Structure.from_file('./size_2/POSCAR_'+str(idx))\n",
    "    scm_raw_all_structures.append(scm_raw) \n",
    "\n"
   ]
  },
  {
   "cell_type": "code",
   "execution_count": 3,
   "metadata": {},
   "outputs": [
    {
     "name": "stderr",
     "output_type": "stream",
     "text": [
      "/Users/siddnathan/Library/Python/3.10/lib/python/site-packages/matminer/featurizers/structure/matrix.py:206: ComplexWarning: Casting complex values to real discards the imaginary part\n",
      "  zeros[: len(eigs)] = eigs\n"
     ]
    }
   ],
   "source": [
    "\"\"\"This cell creates a flattened SCM with eigen values of the raw matrix for all structures in training set\"\"\"\n",
    "\n",
    "from pymatgen.core import Structure\n",
    "from matminer.featurizers.structure.matrix import SineCoulombMatrix\n",
    "import numpy as np\n",
    "\n",
    "\n",
    "n_sites_array = np.zeros(54)\n",
    "struct_list =[]\n",
    "for idx in range(0,5):\n",
    "    struct_list.append(Structure.from_file('./size_1/POSCAR_'+str(idx)))\n",
    "    n_sites_array[idx] = len(struct_list[idx].sites) \n",
    "for idx in range(5,54):\n",
    "    struct_list.append(Structure.from_file('./size_2/POSCAR_'+str(idx)))\n",
    "    n_sites_array[idx] = len(struct_list[idx].sites)  \n",
    "\n",
    "scm_flattened_all_structures = [] #Contains the necessary data\n",
    "\n",
    "\"\"\"Fitting a one-dimensional array of eigenvalues (somewhat in relation with Principal Component Analysis) of the Sine Coulomb Matrix.\n",
    " Dimensions are 1x16, as the size 2 structures contain 16 atoms. The corresponding entries in the size 1 structures, which contain 8 atoms are zeros.\"\"\"\n",
    "\n",
    "scm = SineCoulombMatrix()\n",
    "scm.fit(struct_list)\n",
    "\n",
    "for idx in range(0,5):\n",
    "    flattened_scm= scm.featurize(Structure.from_file('./size_1/POSCAR_'+str(idx)))\n",
    "    scm_flattened_all_structures.append(flattened_scm)\n",
    "for idx in range(5,54):\n",
    "    flattened_scm= scm.featurize(Structure.from_file('./size_2/POSCAR_'+str(idx)))\n",
    "    scm_flattened_all_structures.append(flattened_scm)\n",
    "\n"
   ]
  },
  {
   "cell_type": "code",
   "execution_count": 13,
   "metadata": {},
   "outputs": [
    {
     "name": "stderr",
     "output_type": "stream",
     "text": [
      "/Users/siddnathan/Library/Python/3.10/lib/python/site-packages/numpy/lib/arraysetops.py:272: VisibleDeprecationWarning: Creating an ndarray from ragged nested sequences (which is a list-or-tuple of lists-or-tuples-or ndarrays with different lengths or shapes) is deprecated. If you meant to do this, you must specify 'dtype=object' when creating the ndarray.\n",
      "  ar = np.asanyarray(ar)\n"
     ]
    },
    {
     "name": "stdout",
     "output_type": "stream",
     "text": [
      "54\n"
     ]
    }
   ],
   "source": [
    "\"\"\"Bag of Bonds Vector calculation\"\"\"\n",
    "\n",
    "\"\"\"Bag of bonds is an alternative way of representing the SCM, being invariant to permutations of atom indices. \n",
    "It is inspired by the so-called “bag of words” descriptor used in natural language processing where, a bag encodes the frequency of a particular word appearing in text. \n",
    "BoB follows a similar approach by making bags of different types of bonds (Sr-S,Pb-S) and order of the bond (single, double, triple). Each bag is basically a vector. \n",
    "These bags are then populated by the corresponding entrees in the SCM. A fingerprint is formed by vectorizing this information, by simply concatenating all bags of bonds in a pre-specified and consistent order.\"\"\"\n",
    "\n",
    "from pymatgen.core import Structure\n",
    "from matminer.featurizers.structure.bonding import BagofBonds\n",
    "bob_data=[] #Contains the necessary data\n",
    "bob = BagofBonds()\n",
    "bob.fit(struct_list)\n",
    "bob_data =[bob.bag(struct_list[i]) for i in range(0,len(struct_list))]\n"
   ]
  },
  {
   "cell_type": "code",
   "execution_count": null,
   "metadata": {},
   "outputs": [],
   "source": []
  }
 ],
 "metadata": {
  "kernelspec": {
   "display_name": "base",
   "language": "python",
   "name": "python3"
  },
  "language_info": {
   "codemirror_mode": {
    "name": "ipython",
    "version": 3
   },
   "file_extension": ".py",
   "mimetype": "text/x-python",
   "name": "python",
   "nbconvert_exporter": "python",
   "pygments_lexer": "ipython3",
   "version": "3.10.10 (main, Mar 21 2023, 18:45:11) [GCC 11.2.0]"
  },
  "orig_nbformat": 4,
  "vscode": {
   "interpreter": {
    "hash": "4a1fda2f55fba6f92721c6ebceda0a9e8e7c6cfe9acefd3861a67bd134053924"
   }
  }
 },
 "nbformat": 4,
 "nbformat_minor": 2
}
